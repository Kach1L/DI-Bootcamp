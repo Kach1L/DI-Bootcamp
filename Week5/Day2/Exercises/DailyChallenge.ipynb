{
 "cells": [
  {
   "cell_type": "code",
   "execution_count": 3,
   "id": "14a73b00-6f5d-4b79-8d14-cee4ae99bf60",
   "metadata": {},
   "outputs": [
    {
     "name": "stdout",
     "output_type": "stream",
     "text": [
      "Requirement already satisfied: matplotlib in c:\\python311\\lib\\site-packages (3.7.2)\n",
      "Requirement already satisfied: contourpy>=1.0.1 in c:\\python311\\lib\\site-packages (from matplotlib) (1.1.0)\n",
      "Requirement already satisfied: cycler>=0.10 in c:\\python311\\lib\\site-packages (from matplotlib) (0.11.0)\n",
      "Requirement already satisfied: fonttools>=4.22.0 in c:\\python311\\lib\\site-packages (from matplotlib) (4.42.0)\n",
      "Requirement already satisfied: kiwisolver>=1.0.1 in c:\\python311\\lib\\site-packages (from matplotlib) (1.4.4)\n",
      "Requirement already satisfied: numpy>=1.20 in c:\\python311\\lib\\site-packages (from matplotlib) (1.25.2)\n",
      "Requirement already satisfied: packaging>=20.0 in c:\\python311\\lib\\site-packages (from matplotlib) (23.1)\n",
      "Requirement already satisfied: pillow>=6.2.0 in c:\\python311\\lib\\site-packages (from matplotlib) (10.0.0)\n",
      "Requirement already satisfied: pyparsing<3.1,>=2.3.1 in c:\\python311\\lib\\site-packages (from matplotlib) (3.0.9)\n",
      "Requirement already satisfied: python-dateutil>=2.7 in c:\\python311\\lib\\site-packages (from matplotlib) (2.8.2)\n",
      "Requirement already satisfied: six>=1.5 in c:\\python311\\lib\\site-packages (from python-dateutil>=2.7->matplotlib) (1.16.0)\n",
      "Note: you may need to restart the kernel to use updated packages.\n"
     ]
    },
    {
     "name": "stderr",
     "output_type": "stream",
     "text": [
      "\n",
      "[notice] A new release of pip is available: 23.1.2 -> 23.2.1\n",
      "[notice] To update, run: python.exe -m pip install --upgrade pip\n"
     ]
    }
   ],
   "source": [
    "pip install matplotlib"
   ]
  },
  {
   "cell_type": "code",
   "execution_count": 5,
   "id": "b599c824-9234-4ec1-a3ff-ffd5eebfacec",
   "metadata": {},
   "outputs": [
    {
     "ename": "SyntaxError",
     "evalue": "invalid syntax (504418896.py, line 3)",
     "output_type": "error",
     "traceback": [
      "\u001b[1;36m  Cell \u001b[1;32mIn[5], line 3\u001b[1;36m\u001b[0m\n\u001b[1;33m    imorptrmatplotlib.pyplotot a pslt\u001b[0m\n\u001b[1;37m                               ^\u001b[0m\n\u001b[1;31mSyntaxError\u001b[0m\u001b[1;31m:\u001b[0m invalid syntax\n"
     ]
    }
   ],
   "source": [
    "import numpy as np\r\n",
    "import pandas as pd\r\n",
    "import matplotlib.pyplotot as pslt\r\n",
    "\r\n"
   ]
  },
  {
   "cell_type": "code",
   "execution_count": null,
   "id": "1bbec7d8-14a3-47f1-ba70-11a31b7810ac",
   "metadata": {},
   "outputs": [],
   "source": [
    "# Load the Starbucks dataset into a DataFrame\n",
    "# Assuming the dataset is named \"starbucks.csv\" and is in the same directory\n",
    "starbucks = pd.read_csv('starbucks.csv')"
   ]
  },
  {
   "cell_type": "code",
   "execution_count": null,
   "id": "c1303472-5a4f-437c-aebe-ced68bab97db",
   "metadata": {},
   "outputs": [],
   "source": [
    "# Display the first 10 entries of the DataFrame\n",
    "print(starbucks.head(10))"
   ]
  },
  {
   "cell_type": "code",
   "execution_count": null,
   "id": "781392d5-1aad-458a-a5d5-c80822299677",
   "metadata": {},
   "outputs": [],
   "source": [
    "# Determine the total number of entries in the 'starbucks' DataFrame\n",
    "total_entries = starbucks.shape[0]\n",
    "print(\"Total number of entries:\", total_entries)\n",
    "\n",
    "# Print all the column names in the DataFrame\n",
    "print(\"Column names:\", starbucks.columns.tolist())\n",
    "\n",
    "# Find out how the DataFrame is indexed\n",
    "print(\"Index:\", starbucks.index)"
   ]
  },
  {
   "cell_type": "code",
   "execution_count": null,
   "id": "4d020a46-3a8b-44c2-a53e-5a11002a0ebe",
   "metadata": {},
   "outputs": [],
   "source": [
    "# Determine the drink that contains the most amount of sugar on average\n",
    "max_avg_sugar_drink = starbucks.groupby('drink_category')['sugar_g'].mean().idxmax()\n",
    "print(\"Drink with the most sugar on average:\", max_avg_sugar_drink)\n",
    "\n",
    "# Find out how many different drink categories there are\n",
    "num_categories = starbucks['drink_category'].nunique()\n",
    "print(\"Number of different drink categories:\", num_categories)\n",
    "\n",
    "# Identify the 5 most frequent drink categories\n",
    "top_categories = starbucks['drink_category'].value_counts().head(5)\n",
    "print(\"Top 5 drink categories:\\n\", top_categories)"
   ]
  },
  {
   "cell_type": "code",
   "execution_count": null,
   "id": "3e59e7eb-c699-40e1-9951-59ab89104a45",
   "metadata": {},
   "outputs": [],
   "source": [
    "# Find out the average calorie content per drink category\n",
    "avg_calories_per_category = starbucks.groupby('drink_category')['calories'].mean()\n",
    "print(\"Average calorie content per drink category:\\n\", avg_calories_per_category)\n",
    "\n",
    "# Create a new column 'caffeine_to_calories' representing the ratio of caffeine to calories\n",
    "starbucks['caffeine_to_calories'] = starbucks['caffeine_mg'] / starbucks['calories']\n",
    "\n",
    "# Find the drink category with the highest average 'caffeine_to_calories' ratio\n",
    "max_caffeine_calories_category = starbucks.groupby('drink_category')['caffeine_to_calories'].mean().idxmax()\n",
    "print(\"Category with the highest caffeine_to_calories ratio:\", max_caffeine_calories_category)"
   ]
  },
  {
   "cell_type": "code",
   "execution_count": null,
   "id": "7c6b8d8e-7b75-4277-a75f-3e3043b54c0d",
   "metadata": {},
   "outputs": [],
   "source": [
    "# Create a horizontal bar plot for average 'caffeine_to_calories' ratio by category\n",
    "# Not Sure How to do it.\n",
    "\n",
    "# Formulate and answer a question about the dataset\n",
    "# For example: What is the relationship between sugar and caffeine across different drink categories?\n",
    "relationship_question = \"What is the relationship between sugar and caffeine across different drink categories?\"\n",
    "print(relationship_question)\n",
    "# You can proceed to answer this question by performing relevant analysis on the dataset."
   ]
  }
 ],
 "metadata": {
  "kernelspec": {
   "display_name": "Python 3 (ipykernel)",
   "language": "python",
   "name": "python3"
  },
  "language_info": {
   "codemirror_mode": {
    "name": "ipython",
    "version": 3
   },
   "file_extension": ".py",
   "mimetype": "text/x-python",
   "name": "python",
   "nbconvert_exporter": "python",
   "pygments_lexer": "ipython3",
   "version": "3.11.4"
  }
 },
 "nbformat": 4,
 "nbformat_minor": 5
}
