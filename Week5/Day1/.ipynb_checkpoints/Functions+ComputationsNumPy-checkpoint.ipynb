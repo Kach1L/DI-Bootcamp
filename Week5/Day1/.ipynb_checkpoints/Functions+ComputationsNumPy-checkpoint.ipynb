{
 "cells": [
  {
   "cell_type": "code",
   "execution_count": 1,
   "id": "f0784ec6-9f3c-4b79-bcd8-264a6dcac4d9",
   "metadata": {},
   "outputs": [],
   "source": [
    "import numpy as np"
   ]
  },
  {
   "cell_type": "code",
   "execution_count": 3,
   "id": "0275ab56-47f8-4403-958b-27c4599cfafa",
   "metadata": {},
   "outputs": [],
   "source": [
    "array1 = np.arange(1,6)"
   ]
  },
  {
   "cell_type": "code",
   "execution_count": 11,
   "id": "214af572-a8b9-4bf7-9d4c-b3a8f60d580e",
   "metadata": {},
   "outputs": [],
   "source": [
    "result = np.sqrt(array1)"
   ]
  },
  {
   "cell_type": "code",
   "execution_count": 12,
   "id": "ad7a31b5-bb6b-4149-995a-a378db4bc4af",
   "metadata": {},
   "outputs": [
    {
     "name": "stdout",
     "output_type": "stream",
     "text": [
      "[1.         1.41421356 1.73205081 2.         2.23606798]\n"
     ]
    }
   ],
   "source": [
    "print(result)"
   ]
  },
  {
   "cell_type": "code",
   "execution_count": 13,
   "id": "4fb8f11b-1e0e-4cb6-b65d-d51d35efd659",
   "metadata": {},
   "outputs": [],
   "source": [
    "array2 = np.arange(6,11)"
   ]
  },
  {
   "cell_type": "code",
   "execution_count": 14,
   "id": "fa628921-d14d-4657-b59d-924b87ed59f4",
   "metadata": {},
   "outputs": [],
   "source": [
    "result_add = array1 + array2\n",
    "\n",
    "result_sub = array1 - array2\n",
    "\n",
    "result_mul = array1 * array2\n",
    "\n",
    "result_div = array1 / array2"
   ]
  },
  {
   "cell_type": "code",
   "execution_count": 15,
   "id": "de27f086-eb72-474b-a3ee-ab0d4831f4fa",
   "metadata": {},
   "outputs": [
    {
     "name": "stdout",
     "output_type": "stream",
     "text": [
      "Addition: [ 7  9 11 13 15]\n",
      "Subtraction: [-5 -5 -5 -5 -5]\n",
      "Multiplication: [ 6 14 24 36 50]\n",
      "Division: [0.16666667 0.28571429 0.375      0.44444444 0.5       ]\n"
     ]
    }
   ],
   "source": [
    "print(\"Addition:\", result_add)\n",
    "\n",
    "print(\"Subtraction:\", result_sub)\n",
    "\n",
    "print(\"Multiplication:\", result_mul)\n",
    "\n",
    "print(\"Division:\", result_div)"
   ]
  },
  {
   "cell_type": "code",
   "execution_count": 18,
   "id": "4c5c367c-da5e-48d8-a687-0f9db77c9bab",
   "metadata": {},
   "outputs": [
    {
     "name": "stdout",
     "output_type": "stream",
     "text": [
      "Help on ufunc:\n",
      "\n",
      "sqrt = <ufunc 'sqrt'>\n",
      "    sqrt(x, /, out=None, *, where=True, casting='same_kind', order='K', dtype=None, subok=True[, signature, extobj])\n",
      "    \n",
      "    Return the non-negative square-root of an array, element-wise.\n",
      "    \n",
      "    Parameters\n",
      "    ----------\n",
      "    x : array_like\n",
      "        The values whose square-roots are required.\n",
      "    out : ndarray, None, or tuple of ndarray and None, optional\n",
      "        A location into which the result is stored. If provided, it must have\n",
      "        a shape that the inputs broadcast to. If not provided or None,\n",
      "        a freshly-allocated array is returned. A tuple (possible only as a\n",
      "        keyword argument) must have length equal to the number of outputs.\n",
      "    where : array_like, optional\n",
      "        This condition is broadcast over the input. At locations where the\n",
      "        condition is True, the `out` array will be set to the ufunc result.\n",
      "        Elsewhere, the `out` array will retain its original value.\n",
      "        Note that if an uninitialized `out` array is created via the default\n",
      "        ``out=None``, locations within it where the condition is False will\n",
      "        remain uninitialized.\n",
      "    **kwargs\n",
      "        For other keyword-only arguments, see the\n",
      "        :ref:`ufunc docs <ufuncs.kwargs>`.\n",
      "    \n",
      "    Returns\n",
      "    -------\n",
      "    y : ndarray\n",
      "        An array of the same shape as `x`, containing the positive\n",
      "        square-root of each element in `x`.  If any element in `x` is\n",
      "        complex, a complex array is returned (and the square-roots of\n",
      "        negative reals are calculated).  If all of the elements in `x`\n",
      "        are real, so is `y`, with negative elements returning ``nan``.\n",
      "        If `out` was provided, `y` is a reference to it.\n",
      "        This is a scalar if `x` is a scalar.\n",
      "    \n",
      "    See Also\n",
      "    --------\n",
      "    emath.sqrt\n",
      "        A version which returns complex numbers when given negative reals.\n",
      "        Note that 0.0 and -0.0 are handled differently for complex inputs.\n",
      "    \n",
      "    Notes\n",
      "    -----\n",
      "    *sqrt* has--consistent with common convention--as its branch cut the\n",
      "    real \"interval\" [`-inf`, 0), and is continuous from above on it.\n",
      "    A branch cut is a curve in the complex plane across which a given\n",
      "    complex function fails to be continuous.\n",
      "    \n",
      "    Examples\n",
      "    --------\n",
      "    >>> np.sqrt([1,4,9])\n",
      "    array([ 1.,  2.,  3.])\n",
      "    \n",
      "    >>> np.sqrt([4, -1, -3+4J])\n",
      "    array([ 2.+0.j,  0.+1.j,  1.+2.j])\n",
      "    \n",
      "    >>> np.sqrt([4, -1, np.inf])\n",
      "    array([ 2., nan, inf])\n",
      "\n"
     ]
    }
   ],
   "source": [
    "help(np.sqrt)"
   ]
  },
  {
   "cell_type": "code",
   "execution_count": 20,
   "id": "558f5006-f653-4d98-9635-5d181258cf38",
   "metadata": {},
   "outputs": [
    {
     "name": "stdout",
     "output_type": "stream",
     "text": [
      "Help on ufunc:\n",
      "\n",
      "add = <ufunc 'add'>\n",
      "    add(x1, x2, /, out=None, *, where=True, casting='same_kind', order='K', dtype=None, subok=True[, signature, extobj])\n",
      "    \n",
      "    Add arguments element-wise.\n",
      "    \n",
      "    Parameters\n",
      "    ----------\n",
      "    x1, x2 : array_like\n",
      "        The arrays to be added.\n",
      "        If ``x1.shape != x2.shape``, they must be broadcastable to a common\n",
      "        shape (which becomes the shape of the output).\n",
      "    out : ndarray, None, or tuple of ndarray and None, optional\n",
      "        A location into which the result is stored. If provided, it must have\n",
      "        a shape that the inputs broadcast to. If not provided or None,\n",
      "        a freshly-allocated array is returned. A tuple (possible only as a\n",
      "        keyword argument) must have length equal to the number of outputs.\n",
      "    where : array_like, optional\n",
      "        This condition is broadcast over the input. At locations where the\n",
      "        condition is True, the `out` array will be set to the ufunc result.\n",
      "        Elsewhere, the `out` array will retain its original value.\n",
      "        Note that if an uninitialized `out` array is created via the default\n",
      "        ``out=None``, locations within it where the condition is False will\n",
      "        remain uninitialized.\n",
      "    **kwargs\n",
      "        For other keyword-only arguments, see the\n",
      "        :ref:`ufunc docs <ufuncs.kwargs>`.\n",
      "    \n",
      "    Returns\n",
      "    -------\n",
      "    add : ndarray or scalar\n",
      "        The sum of `x1` and `x2`, element-wise.\n",
      "        This is a scalar if both `x1` and `x2` are scalars.\n",
      "    \n",
      "    Notes\n",
      "    -----\n",
      "    Equivalent to `x1` + `x2` in terms of array broadcasting.\n",
      "    \n",
      "    Examples\n",
      "    --------\n",
      "    >>> np.add(1.0, 4.0)\n",
      "    5.0\n",
      "    >>> x1 = np.arange(9.0).reshape((3, 3))\n",
      "    >>> x2 = np.arange(3.0)\n",
      "    >>> np.add(x1, x2)\n",
      "    array([[  0.,   2.,   4.],\n",
      "           [  3.,   5.,   7.],\n",
      "           [  6.,   8.,  10.]])\n",
      "    \n",
      "    The ``+`` operator can be used as a shorthand for ``np.add`` on ndarrays.\n",
      "    \n",
      "    >>> x1 = np.arange(9.0).reshape((3, 3))\n",
      "    >>> x2 = np.arange(3.0)\n",
      "    >>> x1 + x2\n",
      "    array([[ 0.,  2.,  4.],\n",
      "           [ 3.,  5.,  7.],\n",
      "           [ 6.,  8., 10.]])\n",
      "\n"
     ]
    }
   ],
   "source": [
    "help(np.add)"
   ]
  },
  {
   "cell_type": "code",
   "execution_count": 27,
   "id": "9824be72-fdf3-4df6-84ce-84cbadfcaedb",
   "metadata": {},
   "outputs": [
    {
     "name": "stdout",
     "output_type": "stream",
     "text": [
      "sqrt(x, /, out=None, *, where=True, casting='same_kind', order='K', dtype=None, subok=True[, signature, extobj])\n",
      "\n",
      "Return the non-negative square-root of an array, element-wise.\n",
      "\n",
      "Parameters\n",
      "----------\n",
      "x : array_like\n",
      "    The values whose square-roots are required.\n",
      "out : ndarray, None, or tuple of ndarray and None, optional\n",
      "    A location into which the result is stored. If provided, it must have\n",
      "    a shape that the inputs broadcast to. If not provided or None,\n",
      "    a freshly-allocated array is returned. A tuple (possible only as a\n",
      "    keyword argument) must have length equal to the number of outputs.\n",
      "where : array_like, optional\n",
      "    This condition is broadcast over the input. At locations where the\n",
      "    condition is True, the `out` array will be set to the ufunc result.\n",
      "    Elsewhere, the `out` array will retain its original value.\n",
      "    Note that if an uninitialized `out` array is created via the default\n",
      "    ``out=None``, locations within it where the condition is False will\n",
      "    remain uninitialized.\n",
      "**kwargs\n",
      "    For other keyword-only arguments, see the\n",
      "    :ref:`ufunc docs <ufuncs.kwargs>`.\n",
      "\n",
      "Returns\n",
      "-------\n",
      "y : ndarray\n",
      "    An array of the same shape as `x`, containing the positive\n",
      "    square-root of each element in `x`.  If any element in `x` is\n",
      "    complex, a complex array is returned (and the square-roots of\n",
      "    negative reals are calculated).  If all of the elements in `x`\n",
      "    are real, so is `y`, with negative elements returning ``nan``.\n",
      "    If `out` was provided, `y` is a reference to it.\n",
      "    This is a scalar if `x` is a scalar.\n",
      "\n",
      "See Also\n",
      "--------\n",
      "emath.sqrt\n",
      "    A version which returns complex numbers when given negative reals.\n",
      "    Note that 0.0 and -0.0 are handled differently for complex inputs.\n",
      "\n",
      "Notes\n",
      "-----\n",
      "*sqrt* has--consistent with common convention--as its branch cut the\n",
      "real \"interval\" [`-inf`, 0), and is continuous from above on it.\n",
      "A branch cut is a curve in the complex plane across which a given\n",
      "complex function fails to be continuous.\n",
      "\n",
      "Examples\n",
      "--------\n",
      ">>> np.sqrt([1,4,9])\n",
      "array([ 1.,  2.,  3.])\n",
      "\n",
      ">>> np.sqrt([4, -1, -3+4J])\n",
      "array([ 2.+0.j,  0.+1.j,  1.+2.j])\n",
      "\n",
      ">>> np.sqrt([4, -1, np.inf])\n",
      "array([ 2., nan, inf])\n"
     ]
    }
   ],
   "source": [
    "print(np.sqrt.__doc__)"
   ]
  },
  {
   "cell_type": "code",
   "execution_count": null,
   "id": "cb453b1a-df84-4704-af31-eefc462dd46e",
   "metadata": {},
   "outputs": [],
   "source": []
  }
 ],
 "metadata": {
  "kernelspec": {
   "display_name": "Python 3 (ipykernel)",
   "language": "python",
   "name": "python3"
  },
  "language_info": {
   "codemirror_mode": {
    "name": "ipython",
    "version": 3
   },
   "file_extension": ".py",
   "mimetype": "text/x-python",
   "name": "python",
   "nbconvert_exporter": "python",
   "pygments_lexer": "ipython3",
   "version": "3.11.4"
  }
 },
 "nbformat": 4,
 "nbformat_minor": 5
}
