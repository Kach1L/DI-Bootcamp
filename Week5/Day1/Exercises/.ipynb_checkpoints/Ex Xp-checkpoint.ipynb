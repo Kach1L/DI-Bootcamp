{
 "cells": [
  {
   "cell_type": "code",
   "execution_count": 24,
   "id": "e8662a0e-ef11-4227-b78c-d7f9b968b6f6",
   "metadata": {},
   "outputs": [],
   "source": [
    "# Part1\n",
    "import numpy as np"
   ]
  },
  {
   "cell_type": "code",
   "execution_count": 25,
   "id": "643336df-ab5d-4cd7-9c40-fc1f35c1879b",
   "metadata": {},
   "outputs": [
    {
     "name": "stdout",
     "output_type": "stream",
     "text": [
      "[0. 0. 0. 0. 0. 0. 0. 0. 0. 0.]\n"
     ]
    }
   ],
   "source": [
    "# Part2\n",
    "zeros_vector = np.zeros(10)\n",
    "print(zeros_vector)"
   ]
  },
  {
   "cell_type": "code",
   "execution_count": 26,
   "id": "a74f4264-68a4-43d9-b257-3682a6e46bf8",
   "metadata": {},
   "outputs": [
    {
     "name": "stdout",
     "output_type": "stream",
     "text": [
      "40\n"
     ]
    }
   ],
   "source": [
    "# Part3\n",
    "array = np.arange(1,11)\n",
    "array.size\n",
    "array[9].itemsize\n",
    "memory_size = array.size * array[9].itemsize\n",
    "print(memory_size)"
   ]
  },
  {
   "cell_type": "code",
   "execution_count": 27,
   "id": "f55c0bda-1ee8-490d-a21b-10c8a51b8503",
   "metadata": {},
   "outputs": [
    {
     "name": "stdout",
     "output_type": "stream",
     "text": [
      "Help on ufunc:\n",
      "\n",
      "add = <ufunc 'add'>\n",
      "    add(x1, x2, /, out=None, *, where=True, casting='same_kind', order='K', dtype=None, subok=True[, signature, extobj])\n",
      "    \n",
      "    Add arguments element-wise.\n",
      "    \n",
      "    Parameters\n",
      "    ----------\n",
      "    x1, x2 : array_like\n",
      "        The arrays to be added.\n",
      "        If ``x1.shape != x2.shape``, they must be broadcastable to a common\n",
      "        shape (which becomes the shape of the output).\n",
      "    out : ndarray, None, or tuple of ndarray and None, optional\n",
      "        A location into which the result is stored. If provided, it must have\n",
      "        a shape that the inputs broadcast to. If not provided or None,\n",
      "        a freshly-allocated array is returned. A tuple (possible only as a\n",
      "        keyword argument) must have length equal to the number of outputs.\n",
      "    where : array_like, optional\n",
      "        This condition is broadcast over the input. At locations where the\n",
      "        condition is True, the `out` array will be set to the ufunc result.\n",
      "        Elsewhere, the `out` array will retain its original value.\n",
      "        Note that if an uninitialized `out` array is created via the default\n",
      "        ``out=None``, locations within it where the condition is False will\n",
      "        remain uninitialized.\n",
      "    **kwargs\n",
      "        For other keyword-only arguments, see the\n",
      "        :ref:`ufunc docs <ufuncs.kwargs>`.\n",
      "    \n",
      "    Returns\n",
      "    -------\n",
      "    add : ndarray or scalar\n",
      "        The sum of `x1` and `x2`, element-wise.\n",
      "        This is a scalar if both `x1` and `x2` are scalars.\n",
      "    \n",
      "    Notes\n",
      "    -----\n",
      "    Equivalent to `x1` + `x2` in terms of array broadcasting.\n",
      "    \n",
      "    Examples\n",
      "    --------\n",
      "    >>> np.add(1.0, 4.0)\n",
      "    5.0\n",
      "    >>> x1 = np.arange(9.0).reshape((3, 3))\n",
      "    >>> x2 = np.arange(3.0)\n",
      "    >>> np.add(x1, x2)\n",
      "    array([[  0.,   2.,   4.],\n",
      "           [  3.,   5.,   7.],\n",
      "           [  6.,   8.,  10.]])\n",
      "    \n",
      "    The ``+`` operator can be used as a shorthand for ``np.add`` on ndarrays.\n",
      "    \n",
      "    >>> x1 = np.arange(9.0).reshape((3, 3))\n",
      "    >>> x2 = np.arange(3.0)\n",
      "    >>> x1 + x2\n",
      "    array([[ 0.,  2.,  4.],\n",
      "           [ 3.,  5.,  7.],\n",
      "           [ 6.,  8., 10.]])\n",
      "\n"
     ]
    }
   ],
   "source": [
    "# Part4\n",
    "help(np.add)"
   ]
  },
  {
   "cell_type": "code",
   "execution_count": 35,
   "id": "97bed6b9-3ca1-4cae-86c1-8990b0d13095",
   "metadata": {},
   "outputs": [
    {
     "name": "stdout",
     "output_type": "stream",
     "text": [
      "[49 48 47 46 45 44 43 42 41 40 39 38 37 36 35 34 33 32 31 30 29 28 27 26\n",
      " 25 24 23 22 21 20 19 18 17 16 15 14 13 12 11 10]\n"
     ]
    }
   ],
   "source": [
    "# Part5 & 6\n",
    "p5_array = np.arange(10,50)\n",
    "print(p5_array[::-1])"
   ]
  },
  {
   "cell_type": "code",
   "execution_count": 40,
   "id": "71f837aa-d688-449e-a5f4-44144098465d",
   "metadata": {},
   "outputs": [
    {
     "name": "stdout",
     "output_type": "stream",
     "text": [
      "[[0 1 2]\n",
      " [3 4 5]\n",
      " [6 7 8]]\n"
     ]
    }
   ],
   "source": [
    "# Part7\n",
    "array7 = np.arange(9)  # Create an array of values from 0 to 8\n",
    "matrix = np.reshape(array7, (3, 3))  # Reshape the array into a 3x3 matrix\n",
    "print(matrix)"
   ]
  },
  {
   "cell_type": "code",
   "execution_count": 41,
   "id": "58752cec-79d2-45f7-a01f-4b67f5dc78da",
   "metadata": {},
   "outputs": [
    {
     "data": {
      "text/plain": [
       "(array([0, 1, 4], dtype=int64),)"
      ]
     },
     "execution_count": 41,
     "metadata": {},
     "output_type": "execute_result"
    }
   ],
   "source": [
    "# Part8\n",
    "np.nonzero([1,2,0,0,4,0])"
   ]
  },
  {
   "cell_type": "code",
   "execution_count": 43,
   "id": "81ada68a-743c-4e62-966b-f79032236903",
   "metadata": {},
   "outputs": [
    {
     "name": "stdout",
     "output_type": "stream",
     "text": [
      "[[1. 0. 0.]\n",
      " [0. 1. 0.]\n",
      " [0. 0. 1.]]\n"
     ]
    }
   ],
   "source": [
    "# Part9\n",
    "identity_matrix = np.eye(3)\n",
    "print(identity_matrix)"
   ]
  },
  {
   "cell_type": "code",
   "execution_count": 45,
   "id": "93f413ea-b5b6-46b2-b225-7c89a4a920f9",
   "metadata": {},
   "outputs": [
    {
     "name": "stdout",
     "output_type": "stream",
     "text": [
      "[[0. 1. 2. 3. 4.]\n",
      " [0. 1. 2. 3. 4.]\n",
      " [0. 1. 2. 3. 4.]\n",
      " [0. 1. 2. 3. 4.]\n",
      " [0. 1. 2. 3. 4.]]\n"
     ]
    }
   ],
   "source": [
    "# Part10\n",
    "row_values = np.arange(5.)  # Create an array of values from 0 to 4\n",
    "matrix = np.tile(row_values, (5, 1))  # Tile the row values to create a 5x5 matrix\n",
    "print(matrix)"
   ]
  },
  {
   "cell_type": "code",
   "execution_count": 49,
   "id": "07882f46-1116-4bf7-895a-61b7ad39eede",
   "metadata": {},
   "outputs": [
    {
     "name": "stdout",
     "output_type": "stream",
     "text": [
      "[0.1        0.11632653 0.13265306 0.14897959 0.16530612 0.18163265\n",
      " 0.19795918 0.21428571 0.23061224 0.24693878 0.26326531 0.27959184\n",
      " 0.29591837 0.3122449  0.32857143 0.34489796 0.36122449 0.37755102\n",
      " 0.39387755 0.41020408 0.42653061 0.44285714 0.45918367 0.4755102\n",
      " 0.49183673 0.50816327 0.5244898  0.54081633 0.55714286 0.57346939\n",
      " 0.58979592 0.60612245 0.62244898 0.63877551 0.65510204 0.67142857\n",
      " 0.6877551  0.70408163 0.72040816 0.73673469 0.75306122 0.76938776\n",
      " 0.78571429 0.80204082 0.81836735 0.83469388 0.85102041 0.86734694\n",
      " 0.88367347 0.9       ]\n"
     ]
    }
   ],
   "source": [
    "# Part11\n",
    "dec_array = np.linspace(.1,.9)\n",
    "print(dec_array)"
   ]
  },
  {
   "cell_type": "code",
   "execution_count": 55,
   "id": "dd16217b-a7e1-424c-8c87-e9534cbf56c2",
   "metadata": {},
   "outputs": [
    {
     "name": "stdout",
     "output_type": "stream",
     "text": [
      "[0.18482629 0.24626741 0.26130987 0.28174197 0.47937996 0.61266506\n",
      " 0.62589553 0.83740065 0.96461051 0.97834272]\n"
     ]
    }
   ],
   "source": [
    "# Part12\n",
    "random_array = np.random.rand(10)  # Create a random vector of size 10\n",
    "sorted_array = np.sort(random_array)  # Sort the random vector\n",
    "print(sorted_array)"
   ]
  },
  {
   "cell_type": "code",
   "execution_count": 61,
   "id": "34233f90-11e9-4f57-8ac9-054a738a9fc8",
   "metadata": {},
   "outputs": [
    {
     "name": "stdout",
     "output_type": "stream",
     "text": [
      "Integer Types:\n",
      "int8:   Min: -128 Max: 127\n",
      "int32:  Min: -2147483648 Max: 2147483647\n",
      "int64:  Min: -9223372036854775808 Max: 9223372036854775807\n",
      "\n",
      "Floating-point Types:\n",
      "float32: Min: -3.4028235e+38 Max: 3.4028235e+38\n",
      "float64: Min: -1.7976931348623157e+308 Max: 1.7976931348623157e+308\n"
     ]
    }
   ],
   "source": [
    "# Part13\n",
    "# Integer types\n",
    "int8_info = np.iinfo(np.int8)\n",
    "int32_info = np.iinfo(np.int32)\n",
    "int64_info = np.iinfo(np.int64)\n",
    "\n",
    "# Floating-point types\n",
    "float32_info = np.finfo(np.float32)\n",
    "float64_info = np.finfo(np.float64)\n",
    "\n",
    "# Print the information\n",
    "print(\"Integer Types:\")\n",
    "print(\"int8:   Min:\", int8_info.min, \"Max:\", int8_info.max)\n",
    "print(\"int32:  Min:\", int32_info.min, \"Max:\", int32_info.max)\n",
    "print(\"int64:  Min:\", int64_info.min, \"Max:\", int64_info.max)\n",
    "print(\"\\nFloating-point Types:\")\n",
    "print(\"float32: Min:\", float32_info.min, \"Max:\", float32_info.max)\n",
    "print(\"float64: Min:\", float64_info.min, \"Max:\", float64_info.max)"
   ]
  },
  {
   "cell_type": "code",
   "execution_count": 62,
   "id": "ae3c5bc4-583e-4ade-b304-fc73a5585cb6",
   "metadata": {},
   "outputs": [
    {
     "name": "stdout",
     "output_type": "stream",
     "text": [
      "[1 2 3 4]\n"
     ]
    }
   ],
   "source": [
    "# Part14\n",
    "# Create a float array\n",
    "float_array = np.array([1.5, 2.7, 3.9, 4.1], dtype=np.float32)\n",
    "\n",
    "# Convert the float array to an integer array in place\n",
    "float_array = float_array.astype(np.int32)\n",
    "\n",
    "print(float_array)"
   ]
  },
  {
   "cell_type": "code",
   "execution_count": 63,
   "id": "e88cb7f2-ad20-4d9d-ae4f-050a6f84b292",
   "metadata": {},
   "outputs": [
    {
     "name": "stdout",
     "output_type": "stream",
     "text": [
      "Original Matrix:\n",
      "[[1 2 3]\n",
      " [4 5 6]\n",
      " [7 8 9]]\n",
      "\n",
      "Matrix Minus Row-wise Mean:\n",
      "[[-1.  0.  1.]\n",
      " [-1.  0.  1.]\n",
      " [-1.  0.  1.]]\n"
     ]
    }
   ],
   "source": [
    "# Part15\n",
    "# Create a sample matrix\n",
    "matrix = np.array([[1, 2, 3],\n",
    "                   [4, 5, 6],\n",
    "                   [7, 8, 9]])\n",
    "\n",
    "# Calculate the row-wise mean\n",
    "row_means = np.mean(matrix, axis=1, keepdims=True)\n",
    "\n",
    "# Subtract the row-wise mean from the matrix\n",
    "matrix_minus_mean = matrix - row_means\n",
    "\n",
    "print(\"Original Matrix:\")\n",
    "print(matrix)\n",
    "print(\"\\nMatrix Minus Row-wise Mean:\")\n",
    "print(matrix_minus_mean)"
   ]
  },
  {
   "cell_type": "code",
   "execution_count": 64,
   "id": "3ebe0ced-58a9-4cf1-bd41-01e729329d22",
   "metadata": {},
   "outputs": [
    {
     "name": "stdout",
     "output_type": "stream",
     "text": [
      "Original Array:\n",
      "[[3 5 1]\n",
      " [1 8 2]\n",
      " [2 3 9]\n",
      " [4 6 7]]\n",
      "\n",
      "Array Sorted by the 1 column:\n",
      "[[2 3 9]\n",
      " [3 5 1]\n",
      " [4 6 7]\n",
      " [1 8 2]]\n"
     ]
    }
   ],
   "source": [
    "# Part16\n",
    "# Create a sample array\n",
    "array = np.array([[3, 5, 1],\n",
    "                  [1, 8, 2],\n",
    "                  [2, 3, 9],\n",
    "                  [4, 6, 7]])\n",
    "\n",
    "# Specify the column index for sorting\n",
    "n = 1\n",
    "\n",
    "# Use np.argsort() to get the indices that would sort the array by the nth column\n",
    "sorted_indices = np.argsort(array[:, n])\n",
    "\n",
    "# Sort the array by the nth column using the sorted indices\n",
    "sorted_array = array[sorted_indices]\n",
    "\n",
    "print(\"Original Array:\")\n",
    "print(array)\n",
    "print(\"\\nArray Sorted by the\", n, \"column:\")\n",
    "print(sorted_array)"
   ]
  },
  {
   "cell_type": "code",
   "execution_count": 65,
   "id": "7c1a5852-10d8-4a24-9337-3feff397560a",
   "metadata": {},
   "outputs": [
    {
     "name": "stdout",
     "output_type": "stream",
     "text": [
      "Array with Swapped Rows:\n",
      "[[7 8 9]\n",
      " [4 5 6]\n",
      " [1 2 3]]\n"
     ]
    }
   ],
   "source": [
    "# Part17\n",
    "# Create a sample array\n",
    "array = np.array([[1, 2, 3],\n",
    "                  [4, 5, 6],\n",
    "                  [7, 8, 9]])\n",
    "\n",
    "# Specify the row indices to be swapped\n",
    "row_index1 = 0  # Index of the first row\n",
    "row_index2 = 2  # Index of the second row\n",
    "\n",
    "# Swap the rows using array indexing\n",
    "array[[row_index1, row_index2]] = array[[row_index2, row_index1]]\n",
    "\n",
    "print(\"Array with Swapped Rows:\")\n",
    "print(array)"
   ]
  },
  {
   "cell_type": "code",
   "execution_count": 66,
   "id": "adab9bee-7354-4611-af37-03f323d36394",
   "metadata": {},
   "outputs": [
    {
     "name": "stdout",
     "output_type": "stream",
     "text": [
      "Array A: [1 1 2 4 5 5 5]\n",
      "Bincount of A: [0 2 1 0 1 3]\n"
     ]
    }
   ],
   "source": [
    "# Part18\n",
    "# Given bincount array C\n",
    "C = np.array([0, 2, 1, 0, 1, 3])\n",
    "\n",
    "# Create array A using np.repeat()\n",
    "A = np.repeat(np.arange(len(C)), C)\n",
    "\n",
    "print(\"Array A:\", A)\n",
    "print(\"Bincount of A:\", np.bincount(A))"
   ]
  },
  {
   "cell_type": "code",
   "execution_count": null,
   "id": "a66b5b83-a95a-49c6-9f73-ec142259ac37",
   "metadata": {},
   "outputs": [],
   "source": [
    "# MAIN INFO FOR THE EXERCISES\n",
    "# Short Explanations For Some Of The Used Terms\n",
    "# Vector: A vector is a one-dimensional array. It is a sequence of numbers that can represent various mathematical concepts.\n",
    "\n",
    "# Memory size: The memory size of an array is the total amount of space, usually in bytes, that the array occupies in memory.\n",
    "\n",
    "# Matrix: A matrix is a two-dimensional array. It is a grid of numbers arranged in rows and columns.\n",
    "\n",
    "# Scalar type: A scalar type in numpy is a type that represents a single number. This includes integer types (like int8, int32, int64), floating point types (like float32, float64), and complex number types.\n",
    "\n",
    "# Mean: The mean is the average of a set of numbers. You calculate it by summing up all the numbers and then dividing by the count of the numbers.\n",
    "\n",
    "# Bincount: A bincount of an array gives the count of each value in the array. For example, the bincount of [0, 0, 1, 1, 1, 2] is [2, 3, 1], because there are 2 zeros, 3 ones, and 1 two."
   ]
  }
 ],
 "metadata": {
  "kernelspec": {
   "display_name": "Python 3 (ipykernel)",
   "language": "python",
   "name": "python3"
  },
  "language_info": {
   "codemirror_mode": {
    "name": "ipython",
    "version": 3
   },
   "file_extension": ".py",
   "mimetype": "text/x-python",
   "name": "python",
   "nbconvert_exporter": "python",
   "pygments_lexer": "ipython3",
   "version": "3.11.4"
  }
 },
 "nbformat": 4,
 "nbformat_minor": 5
}
