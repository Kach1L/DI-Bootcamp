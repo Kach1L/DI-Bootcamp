{
 "cells": [
  {
   "cell_type": "code",
   "execution_count": 5,
   "id": "1f13d5d8-c25e-466e-b95e-86cbf7ed5df2",
   "metadata": {},
   "outputs": [],
   "source": [
    "import numpy as np"
   ]
  },
  {
   "cell_type": "code",
   "execution_count": 7,
   "id": "e7a6889d-b83e-4d71-ab00-ef9d155b7267",
   "metadata": {},
   "outputs": [
    {
     "name": "stdout",
     "output_type": "stream",
     "text": [
      "[[52 25 48 54  7]\n",
      " [30 41 72 94 28]\n",
      " [99 30 99  2 87]\n",
      " [86 29  9 44 21]\n",
      " [ 8 91 85 24 24]]\n"
     ]
    }
   ],
   "source": [
    "data = np.array(np.random.randint(1, 100, size=25)).reshape(5,5)\n",
    "print(data)"
   ]
  },
  {
   "cell_type": "code",
   "execution_count": 10,
   "id": "14757236-2f93-4d41-849f-1aaec39a0f7e",
   "metadata": {},
   "outputs": [
    {
     "name": "stdout",
     "output_type": "stream",
     "text": [
      "Data Matrix with Swapped Rows\n",
      "[[34 12 78 64 51]\n",
      " [23 42 69 70 95]\n",
      " [45 98 29 22 48]\n",
      " [93 87 32 56 81]\n",
      " [78 31 15 35 64]]\n"
     ]
    }
   ],
   "source": [
    "#1 Matrix manipulation\n",
    "data_matrix = np.array([[34, 12, 78, 64, 51],\n",
    "                        [93, 87, 32, 56, 81],\n",
    "                        [45, 98, 29, 22, 48],\n",
    "                        [23, 42, 69, 70, 95],\n",
    "                        [78, 31, 15, 35, 64]])\n",
    "\n",
    "# Swap the second and fourth rows using array indexing\n",
    "data_matrix[[1, 3]] = data_matrix[[3, 1]]\n",
    "\n",
    "print(\"Data Matrix with Swapped Rows:\")\n",
    "print(data_matrix)"
   ]
  },
  {
   "cell_type": "code",
   "execution_count": 11,
   "id": "bafdf643-2f26-4354-8c30-ab8c7071337d",
   "metadata": {},
   "outputs": [
    {
     "name": "stdout",
     "output_type": "stream",
     "text": [
      "Normalized Data Matrix:\n",
      "[[0.25581395 0.         0.76744186 0.60465116 0.45348837]\n",
      " [0.94186047 0.87209302 0.23255814 0.51162791 0.80232558]\n",
      " [0.38372093 1.         0.19767442 0.11627907 0.41860465]\n",
      " [0.12790698 0.34883721 0.6627907  0.6744186  0.96511628]\n",
      " [0.76744186 0.22093023 0.03488372 0.26744186 0.60465116]]\n"
     ]
    }
   ],
   "source": [
    "#2 Normalization\n",
    "data_matrix = np.array([[34, 12, 78, 64, 51],\n",
    "                        [93, 87, 32, 56, 81],\n",
    "                        [45, 98, 29, 22, 48],\n",
    "                        [23, 42, 69, 70, 95],\n",
    "                        [78, 31, 15, 35, 64]])\n",
    "\n",
    "# Calculate the minimum and maximum values\n",
    "min_value = np.min(data_matrix)\n",
    "max_value = np.max(data_matrix)\n",
    "\n",
    "# Normalize the data matrix\n",
    "normalized_matrix = (data_matrix - min_value) / (max_value - min_value)\n",
    "\n",
    "print(\"Normalized Data Matrix:\")\n",
    "print(normalized_matrix)"
   ]
  },
  {
   "cell_type": "code",
   "execution_count": 12,
   "id": "06200510-1c14-4c42-a587-adad5e4e85a6",
   "metadata": {},
   "outputs": [
    {
     "name": "stdout",
     "output_type": "stream",
     "text": [
      "Z-score Normalized Data Matrix:\n",
      "[[-0.77617895 -1.62657422  0.92461158  0.38345096 -0.11905534]\n",
      " [ 1.50442653  1.27250055 -0.85348761  0.07421631  1.04057457]\n",
      " [-0.35098132  1.69769818 -0.9694506  -1.24003091 -0.23501833]\n",
      " [-1.20137658 -0.46694431  0.57672261  0.61537694  1.58173519]\n",
      " [ 0.92461158 -0.89214194 -1.51061123 -0.73752462  0.38345096]]\n"
     ]
    }
   ],
   "source": [
    "#3 Z-Score Normalization\n",
    "data_matrix = np.array([[34, 12, 78, 64, 51],\n",
    "                        [93, 87, 32, 56, 81],\n",
    "                        [45, 98, 29, 22, 48],\n",
    "                        [23, 42, 69, 70, 95],\n",
    "                        [78, 31, 15, 35, 64]])\n",
    "\n",
    "# Calculate the mean and standard deviation\n",
    "mean_value = np.mean(data_matrix)\n",
    "std_value = np.std(data_matrix)\n",
    "\n",
    "# Standardize the data matrix using Z-score normalization\n",
    "z_score_normalized_matrix = (data_matrix - mean_value) / std_value\n",
    "\n",
    "print(\"Z-score Normalized Data Matrix:\")\n",
    "print(z_score_normalized_matrix)"
   ]
  },
  {
   "cell_type": "code",
   "execution_count": 13,
   "id": "6569f2ea-53cd-42da-aa04-2d5727e47978",
   "metadata": {},
   "outputs": [
    {
     "name": "stdout",
     "output_type": "stream",
     "text": [
      "Original Data Matrix:\n",
      "[[34 12 78 64 51]\n",
      " [93 87 32 56 81]\n",
      " [45 98 29 22 48]\n",
      " [23 42 69 70 95]\n",
      " [78 31 15 35 64]]\n",
      "\n",
      "Flattened Vector:\n",
      "[34 12 78 64 51 93 87 32 56 81 45 98 29 22 48 23 42 69 70 95 78 31 15 35\n",
      " 64]\n",
      "\n",
      "Sub-Arrays:\n",
      "Sub-Array 1: [34 12 78 64 51]\n",
      "Sub-Array 2: [93 87 32 56 81]\n",
      "Sub-Array 3: [45 98 29 22 48]\n",
      "Sub-Array 4: [23 42 69 70 95]\n",
      "Sub-Array 5: [78 31 15 35 64]\n"
     ]
    }
   ],
   "source": [
    "#4 Array Splitting\n",
    "data_matrix = np.array([[34, 12, 78, 64, 51],\n",
    "                        [93, 87, 32, 56, 81],\n",
    "                        [45, 98, 29, 22, 48],\n",
    "                        [23, 42, 69, 70, 95],\n",
    "                        [78, 31, 15, 35, 64]])\n",
    "\n",
    "# Reshape the data matrix into a vector\n",
    "flattened_vector = np.ravel(data_matrix)\n",
    "\n",
    "# Split the flattened vector into five equal-sized sub-arrays\n",
    "num_sub_arrays = 5\n",
    "sub_arrays = np.array_split(flattened_vector, num_sub_arrays)\n",
    "\n",
    "print(\"Original Data Matrix:\")\n",
    "print(data_matrix)\n",
    "print(\"\\nFlattened Vector:\")\n",
    "print(flattened_vector)\n",
    "print(\"\\nSub-Arrays:\")\n",
    "for i, sub_array in enumerate(sub_arrays):\n",
    "    print(f\"Sub-Array {i+1}: {sub_array}\")"
   ]
  },
  {
   "cell_type": "code",
   "execution_count": 14,
   "id": "18741e0c-4452-48c6-a58b-e1e022d29dab",
   "metadata": {},
   "outputs": [
    {
     "name": "stdout",
     "output_type": "stream",
     "text": [
      "Vector 1: [2 5 7 1 3]\n",
      "Vector 2: [9 4 6 8 2]\n",
      "Dot Product: 94\n"
     ]
    }
   ],
   "source": [
    "#5 Dot Product\n",
    "# Create two vectors of size 5 with any values\n",
    "vector1 = np.array([2, 5, 7, 1, 3])\n",
    "vector2 = np.array([9, 4, 6, 8, 2])\n",
    "\n",
    "# Compute the dot product using np.dot()\n",
    "dot_product = np.dot(vector1, vector2)\n",
    "\n",
    "# Alternatively, you can compute the dot product using the @ operator\n",
    "# dot_product = vector1 @ vector2\n",
    "\n",
    "print(\"Vector 1:\", vector1)\n",
    "print(\"Vector 2:\", vector2)\n",
    "print(\"Dot Product:\", dot_product)"
   ]
  },
  {
   "cell_type": "code",
   "execution_count": 15,
   "id": "0d48fe6d-5463-4551-bf06-557599dbe03a",
   "metadata": {},
   "outputs": [
    {
     "name": "stdout",
     "output_type": "stream",
     "text": [
      "Matrix data:\n",
      "[[34 12 78]\n",
      " [93 87 32]\n",
      " [45 98 29]]\n",
      "\n",
      "Matrix data2:\n",
      "[[1 2 3]\n",
      " [4 5 6]\n",
      " [7 8 9]]\n",
      "\n",
      "Matrix Multiplication Result:\n",
      "[[ 628  752  876]\n",
      " [ 665  877 1089]\n",
      " [ 640  812  984]]\n"
     ]
    }
   ],
   "source": [
    "#6 Matrix Multiplication\n",
    "data = np.array([[34, 12, 78, 64, 51],\n",
    "                 [93, 87, 32, 56, 81],\n",
    "                 [45, 98, 29, 22, 48],\n",
    "                 [23, 42, 69, 70, 95],\n",
    "                 [78, 31, 15, 35, 64]])\n",
    "\n",
    "# Create another 3x3 matrix data2 with any values\n",
    "data2 = np.array([[1, 2, 3],\n",
    "                  [4, 5, 6],\n",
    "                  [7, 8, 9]])\n",
    "\n",
    "# Perform matrix multiplication using np.dot() or @ operator\n",
    "result = np.dot(data[:3, :3], data2)\n",
    "# Alternatively, you can use result = data[:3, :3] @ data2\n",
    "\n",
    "print(\"Matrix data:\")\n",
    "print(data[:3, :3])\n",
    "print(\"\\nMatrix data2:\")\n",
    "print(data2)\n",
    "print(\"\\nMatrix Multiplication Result:\")\n",
    "print(result)"
   ]
  },
  {
   "cell_type": "code",
   "execution_count": 16,
   "id": "a429462a-1a24-4cb1-97f0-dd6f5095a63a",
   "metadata": {},
   "outputs": [
    {
     "name": "stdout",
     "output_type": "stream",
     "text": [
      "Identity Matrix:\n",
      "[[1. 0. 0.]\n",
      " [0. 1. 0.]\n",
      " [0. 0. 1.]]\n",
      "\n",
      "Scaled Matrix:\n",
      "[[2. 0. 0.]\n",
      " [0. 2. 0.]\n",
      " [0. 0. 2.]]\n",
      "\n",
      "Inverse of the Scaled Matrix:\n",
      "[[0.5 0.  0. ]\n",
      " [0.  0.5 0. ]\n",
      " [0.  0.  0.5]]\n"
     ]
    }
   ],
   "source": [
    "#7 Inverse of a Matrix\n",
    "# Create a 3x3 identity matrix\n",
    "identity_matrix = np.identity(3)\n",
    "\n",
    "# Multiply the identity matrix by 2\n",
    "scaled_matrix = identity_matrix * 2\n",
    "\n",
    "# Compute the inverse of the scaled matrix\n",
    "inverse_matrix = np.linalg.inv(scaled_matrix)\n",
    "\n",
    "print(\"Identity Matrix:\")\n",
    "print(identity_matrix)\n",
    "print(\"\\nScaled Matrix:\")\n",
    "print(scaled_matrix)\n",
    "print(\"\\nInverse of the Scaled Matrix:\")\n",
    "print(inverse_matrix)"
   ]
  },
  {
   "cell_type": "code",
   "execution_count": 17,
   "id": "1f5b08b9-80e5-4dee-97eb-b068d4a2fead",
   "metadata": {},
   "outputs": [
    {
     "name": "stdout",
     "output_type": "stream",
     "text": [
      "First 3x3 Submatrix:\n",
      "[[34 12 78]\n",
      " [93 87 32]\n",
      " [45 98 29]]\n",
      "\n",
      "Eigenvalues:\n",
      "[170.34019176 +0.j         -10.17009588+45.45680714j\n",
      " -10.17009588-45.45680714j]\n",
      "\n",
      "Eigenvectors:\n",
      "[[-0.40613931+0.j         -0.67059406+0.j         -0.67059406-0.j        ]\n",
      " [-0.68531486+0.j          0.38423037+0.32490761j  0.38423037-0.32490761j]\n",
      " [-0.60447863+0.j          0.32063384-0.44079431j  0.32063384+0.44079431j]]\n"
     ]
    }
   ],
   "source": [
    "#8 Eigenvalues and Eigenvectors\n",
    "data = np.array([[34, 12, 78, 64, 51],\n",
    "                 [93, 87, 32, 56, 81],\n",
    "                 [45, 98, 29, 22, 48],\n",
    "                 [23, 42, 69, 70, 95],\n",
    "                 [78, 31, 15, 35, 64]])\n",
    "\n",
    "# Get the first 3x3 part of the data matrix\n",
    "submatrix = data[:3, :3]\n",
    "\n",
    "# Compute eigenvalues and eigenvectors using np.linalg.eig()\n",
    "eigenvalues, eigenvectors = np.linalg.eig(submatrix)\n",
    "\n",
    "print(\"First 3x3 Submatrix:\")\n",
    "print(submatrix)\n",
    "print(\"\\nEigenvalues:\")\n",
    "print(eigenvalues)\n",
    "print(\"\\nEigenvectors:\")\n",
    "print(eigenvectors)"
   ]
  },
  {
   "cell_type": "code",
   "execution_count": 9,
   "id": "abef049a-2b65-4f40-8bd1-ea4abbd814d2",
   "metadata": {},
   "outputs": [
    {
     "name": "stdout",
     "output_type": "stream",
     "text": [
      "Data Matrix with Missing Values:\n",
      "[[34. 12. 78. 64. 51.]\n",
      " [93. 87. 32. 56. nan]\n",
      " [45. nan nan 22. 48.]\n",
      " [23. nan 69. 70. 95.]\n",
      " [78. nan 15. 35. 64.]]\n",
      "\n",
      "Indices of Missing Values:\n",
      "Row: 1, Column: 4\n",
      "Row: 2, Column: 1\n",
      "Row: 2, Column: 2\n",
      "Row: 3, Column: 1\n",
      "Row: 4, Column: 1\n"
     ]
    }
   ],
   "source": [
    "#9 Find Missing Values\n",
    "# import numpy as np\n",
    "data = np.array([[34, 12, 78, 64, 51],\n",
    "                 [93, 87, 32, 56, 81],\n",
    "                 [45, 98, 29, 22, 48],\n",
    "                 [23, 42, 69, 70, 95],\n",
    "                 [78, 31, 15, 35, 64]])\n",
    "\n",
    "# Replace 5 random elements with np.nan\n",
    "num_missing_values = 5\n",
    "missing_indices = np.random.choice(data.size, num_missing_values, replace=False)\n",
    "data_flattened = data.ravel().astype('float32')\n",
    "data_flattened[missing_indices] = np.nan\n",
    "\n",
    "# Reshape the modified data_flattened back into a matrix\n",
    "data_with_nans = data_flattened.reshape(data.shape)\n",
    "\n",
    "# Find the indices of the missing values\n",
    "missing_indices = np.argwhere(np.isnan(data_with_nans))\n",
    "\n",
    "print(\"Data Matrix with Missing Values:\")\n",
    "print(data_with_nans)\n",
    "print(\"\\nIndices of Missing Values:\")\n",
    "for row_idx, col_idx in missing_indices:\n",
    "    print(f\"Row: {row_idx}, Column: {col_idx}\")"
   ]
  },
  {
   "cell_type": "code",
   "execution_count": 2,
   "id": "dc068f79-f2fd-4494-8700-7139af12c84a",
   "metadata": {},
   "outputs": [
    {
     "name": "stdout",
     "output_type": "stream",
     "text": [
      "Data Matrix with Missing Values Replaced:\n",
      "[[34.         12.         78.         64.         51.        ]\n",
      " [93.         87.         56.13636364 56.         81.        ]\n",
      " [45.         98.         29.         22.         48.        ]\n",
      " [23.         42.         69.         56.13636364 95.        ]\n",
      " [78.         31.         56.13636364 35.         64.        ]]\n"
     ]
    }
   ],
   "source": [
    "#10 Replace Missing Values\n",
    "data = np.array([[34, 12, 78, 64, 51],\n",
    "                 [93, 87, np.nan, 56, 81],\n",
    "                 [45, 98, 29, 22, 48],\n",
    "                 [23, 42, 69, np.nan, 95],\n",
    "                 [78, 31, np.nan, 35, 64]])\n",
    "\n",
    "# Calculate the mean of the matrix ignoring NaN values\n",
    "mean_value = np.nanmean(data)\n",
    "\n",
    "# Replace missing values with the mean\n",
    "data[np.isnan(data)] = mean_value\n",
    "\n",
    "print(\"Data Matrix with Missing Values Replaced:\")\n",
    "print(data)"
   ]
  },
  {
   "cell_type": "code",
   "execution_count": null,
   "id": "2aae8461-7330-4329-bcb6-88d531778393",
   "metadata": {},
   "outputs": [],
   "source": [
    "# Useful Commands\n",
    "# Indexing and slicing: Use indexing to select individual elements and slicing to select a range of elements in a matrix. Example: matrix[1,:] returns the second row of the matrix.\n",
    "\n",
    "\n",
    "# np.min, np.max: These functions return the minimum and maximum values of an array respectively.\n",
    "\n",
    "\n",
    "# np.mean, np.std: These functions return the mean and standard deviation of an array respectively.\n",
    "\n",
    "\n",
    "# np.ravel: This function converts a multi-dimensional array into a 1-dimensional array.\n",
    "\n",
    "\n",
    "# np.split: This function splits an array into multiple sub-arrays.\n",
    "\n",
    "\n",
    "# np.dot: This function computes the dot product of two arrays. For 2-D arrays it is equivalent to matrix multiplication.\n",
    "\n",
    "\n",
    "# np.linalg.inv: This function computes the (multiplicative) inverse of a matrix.\n",
    "\n",
    "\n",
    "# np.eye: This function returns a 2-D array with ones on the diagonal and zeros elsewhere (identity matrix).\n",
    "\n",
    "\n",
    "# np.linalg.eig: This function computes the eigenvalues and right eigenvectors of a square array.\n",
    "\n",
    "\n",
    "# np.isnan: This function returns a boolean array where True represents NaN values.\n",
    "\n",
    "\n",
    "# np.where: This function returns the indices of elements in an input array where the given condition is satisfied.\n",
    "\n",
    "\n",
    "# np.nanmean: This function computes the arithmetic mean along the specified axis, ignoring NaNs.\n",
    "\n",
    "\n",
    "# Short Explanations For Some Of The Used Terms\n",
    "# Z-score normalization: In simple terms, z-score normalization is a method used to scale or standardize values in a dataset so that they can be compared accurately. For example, imagine you have two different tests scored out of 100 and 10. If you scored 80 on the first test and 8 on the second, it’s hard to compare these directly because they’re on different scales. But if we convert these scores to z-scores, we’ll be able to compare them directly because they’ll be on the same scale. Z-scores tell you how many standard deviations a value is from the average (mean). A z-score of 0 indicates the value is exactly average, a positive z-score indicates it’s above average, and a negative z-score indicates it’s below average.\n",
    "\n",
    "\n",
    "# Dot product of two vectors: The dot product is a way of multiplying two vectors together to get a single number (a scalar). This can tell you a lot about the relationship between the two vectors. For example, if the dot product is zero, the vectors are perpendicular to each other. In a 3D space, think of it as the amount one vector ‘goes in the direction’ of another. It’s used in many areas of data science and computer graphics.\n",
    "\n",
    "\n",
    "# Identity matrix: An identity matrix is a special kind of square matrix where all the elements of the principal diagonal are ones and all other elements are zeros. It’s called the “identity” matrix because, when it is multiplied by any matrix, the original matrix is returned, similar to how multiplying a number by one leaves the original number unchanged.\n",
    "\n",
    "\n",
    "# Eigenvalues and Eigenvectors: These are a way of breaking down matrices, which can make them easier to analyze. An eigenvector is a vector that only changes by a scalar factor when a matrix is multiplied by it. The corresponding eigenvalue is the factor by which the eigenvector is scaled. These concepts are foundational to many areas of linear algebra and are used in many algorithms in data science and machine learning.\n",
    "\n",
    "\n",
    "# Mean: The mean is a measure of central tendency, commonly known as the average. To find the mean of a dataset, you add up all of the numbers and then divide by the number of numbers. For example, the mean of 2, 3, and 4 is (2+3+4) / 3 = 3. The mean gives a ‘middle’ or ‘typical’ value for a set of data, but it can be influenced by extreme values (outliers)."
   ]
  }
 ],
 "metadata": {
  "kernelspec": {
   "display_name": "Python 3 (ipykernel)",
   "language": "python",
   "name": "python3"
  },
  "language_info": {
   "codemirror_mode": {
    "name": "ipython",
    "version": 3
   },
   "file_extension": ".py",
   "mimetype": "text/x-python",
   "name": "python",
   "nbconvert_exporter": "python",
   "pygments_lexer": "ipython3",
   "version": "3.11.4"
  }
 },
 "nbformat": 4,
 "nbformat_minor": 5
}
